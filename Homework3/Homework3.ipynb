{
 "cells": [
  {
   "cell_type": "markdown",
   "id": "878a2913",
   "metadata": {},
   "source": [
    "## California 房价预测回归任务"
   ]
  },
  {
   "cell_type": "markdown",
   "id": "b50140dc",
   "metadata": {},
   "source": [
    "### 1. 加载训练、测试数据并标准化训练数据"
   ]
  },
  {
   "cell_type": "code",
   "execution_count": null,
   "id": "9f98ef48",
   "metadata": {
    "execution": {
     "iopub.execute_input": "2025-06-17T07:01:05.680927Z",
     "iopub.status.busy": "2025-06-17T07:01:05.680275Z",
     "iopub.status.idle": "2025-06-17T07:01:06.455107Z",
     "shell.execute_reply": "2025-06-17T07:01:06.454513Z",
     "shell.execute_reply.started": "2025-06-17T07:01:05.680847Z"
    },
    "tags": []
   },
   "outputs": [],
   "source": [
    "import numpy as np\n",
    "from sklearn.datasets import fetch_california_housing\n",
    "from sklearn.model_selection import train_test_split\n",
    "from sklearn.preprocessing import StandardScaler\n",
    "\n",
    "# 加载数据\n",
    "california = fetch_california_housing(as_frame=True)\n",
    "x = california.data.values\n",
    "y = california.target.values\n",
    "\n",
    "# 划分 80% 的训练集和 20 % 测试集\n",
    "x_train, x_test, y_train, y_test = train_test_split(x, y, test_size=0.2, random_state=0)\n",
    "\n",
    "# 训练集标准化\n",
    "scaler = StandardScaler()\n",
    "x_train_scaled = scaler.fit_transform(x_train)\n",
    "x_test_scaled  = scaler.transform(x_test)\n"
   ]
  },
  {
   "cell_type": "markdown",
   "id": "d2497dd8",
   "metadata": {},
   "source": [
    "### 2. 使用传统机器学习算法（线性回归、支持向量回归、决策树）训练，将均方误差、决定系数和运行时间作为评价标准"
   ]
  },
  {
   "cell_type": "code",
   "execution_count": 2,
   "id": "2a3e5a47",
   "metadata": {
    "execution": {
     "iopub.execute_input": "2025-06-17T07:01:06.456981Z",
     "iopub.status.busy": "2025-06-17T07:01:06.456700Z",
     "iopub.status.idle": "2025-06-17T07:01:18.154024Z",
     "shell.execute_reply": "2025-06-17T07:01:18.152651Z",
     "shell.execute_reply.started": "2025-06-17T07:01:06.456957Z"
    },
    "tags": []
   },
   "outputs": [
    {
     "data": {
      "text/plain": [
       "{'Linear Regression': (0.5289841670367208,\n",
       "  0.5943232652466204,\n",
       "  0.005054473876953125,\n",
       "  0.0006020069122314453),\n",
       " 'Decision Tree': (0.532076302852907,\n",
       "  0.5919519134378293,\n",
       "  0.14556884765625,\n",
       "  0.0009133815765380859),\n",
       " 'SVR': (0.3309119825302841,\n",
       "  0.7462243656257972,\n",
       "  9.193125247955322,\n",
       "  2.305111885070801)}"
      ]
     },
     "execution_count": 2,
     "metadata": {},
     "output_type": "execute_result"
    }
   ],
   "source": [
    "from sklearn.linear_model import LinearRegression\n",
    "from sklearn.tree import DecisionTreeRegressor\n",
    "from sklearn.svm import SVR\n",
    "from sklearn.metrics import mean_squared_error, r2_score\n",
    "import time\n",
    "models = {\n",
    "    'Linear Regression': LinearRegression(),\n",
    "    'Decision Tree': DecisionTreeRegressor(random_state=0),\n",
    "    'SVR': SVR()\n",
    "}\n",
    "\n",
    "results = {}\n",
    "for name, model in models.items():\n",
    "    start_time = time.time()\n",
    "    model.fit(x_train_scaled, y_train)\n",
    "    elapsed_time1 = time.time() - start_time\n",
    "\n",
    "    start_time = time.time()\n",
    "    y_pred = model.predict(x_test_scaled)\n",
    "    elapsed_time2 = time.time() - start_time\n",
    "    mse = mean_squared_error(y_test, y_pred)\n",
    "    r2  = r2_score(y_test, y_pred)\n",
    "    results[name] = (mse, r2, elapsed_time1, elapsed_time2)\n",
    "results"
   ]
  },
  {
   "cell_type": "markdown",
   "id": "a380ce45",
   "metadata": {},
   "source": [
    "### 3. 使用 Keras 训练神经网络，并进行预测，计算其误差"
   ]
  },
  {
   "cell_type": "markdown",
   "id": "58d9a6d4",
   "metadata": {},
   "source": [
    "这里构建了一个简单的3层全连接层的神经网络"
   ]
  },
  {
   "cell_type": "code",
   "execution_count": 3,
   "id": "d0f1dddb",
   "metadata": {
    "execution": {
     "iopub.execute_input": "2025-06-17T07:01:18.156004Z",
     "iopub.status.busy": "2025-06-17T07:01:18.155678Z",
     "iopub.status.idle": "2025-06-17T07:02:25.877060Z",
     "shell.execute_reply": "2025-06-17T07:02:25.876413Z",
     "shell.execute_reply.started": "2025-06-17T07:01:18.155964Z"
    },
    "tags": []
   },
   "outputs": [
    {
     "name": "stdout",
     "output_type": "stream",
     "text": [
      "Epoch 1/100\n"
     ]
    },
    {
     "name": "stderr",
     "output_type": "stream",
     "text": [
      "2025-06-17 07:01:19.339770: I tensorflow/core/platform/cpu_feature_guard.cc:151] This TensorFlow binary is optimized with oneAPI Deep Neural Network Library (oneDNN) to use the following CPU instructions in performance-critical operations:  AVX2 FMA\n",
      "To enable them in other operations, rebuild TensorFlow with the appropriate compiler flags.\n",
      "2025-06-17 07:01:19.774344: I tensorflow/core/common_runtime/gpu/gpu_device.cc:1525] Created device /job:localhost/replica:0/task:0/device:GPU:0 with 22301 MB memory:  -> device: 0, name: NVIDIA GeForce RTX 3090, pci bus id: 0000:41:00.0, compute capability: 8.6\n"
     ]
    },
    {
     "name": "stdout",
     "output_type": "stream",
     "text": [
      " 78/413 [====>.........................] - ETA: 0s - loss: 1.3038 - rmse: 1.1418"
     ]
    },
    {
     "name": "stderr",
     "output_type": "stream",
     "text": [
      "2025-06-17 07:01:20.856399: I tensorflow/stream_executor/cuda/cuda_blas.cc:1786] TensorFloat-32 will be used for the matrix multiplication. This will only be logged once.\n"
     ]
    },
    {
     "name": "stdout",
     "output_type": "stream",
     "text": [
      "413/413 [==============================] - 2s 3ms/step - loss: 0.5732 - rmse: 0.7571 - val_loss: 0.4539 - val_rmse: 0.6737\n",
      "Epoch 2/100\n",
      "413/413 [==============================] - 1s 2ms/step - loss: 0.3662 - rmse: 0.6051 - val_loss: 0.3372 - val_rmse: 0.5807\n",
      "Epoch 3/100\n",
      "413/413 [==============================] - 1s 2ms/step - loss: 0.3585 - rmse: 0.5987 - val_loss: 0.3623 - val_rmse: 0.6019\n",
      "Epoch 4/100\n",
      "413/413 [==============================] - 1s 2ms/step - loss: 0.3827 - rmse: 0.6186 - val_loss: 0.3069 - val_rmse: 0.5540\n",
      "Epoch 5/100\n",
      "413/413 [==============================] - 1s 2ms/step - loss: 0.3376 - rmse: 0.5811 - val_loss: 0.3218 - val_rmse: 0.5673\n",
      "Epoch 6/100\n",
      "413/413 [==============================] - 1s 2ms/step - loss: 0.3221 - rmse: 0.5675 - val_loss: 0.2974 - val_rmse: 0.5453\n",
      "Epoch 7/100\n",
      "413/413 [==============================] - 1s 2ms/step - loss: 0.3333 - rmse: 0.5773 - val_loss: 0.3088 - val_rmse: 0.5557\n",
      "Epoch 8/100\n",
      "413/413 [==============================] - 1s 2ms/step - loss: 0.3207 - rmse: 0.5663 - val_loss: 0.3001 - val_rmse: 0.5478\n",
      "Epoch 9/100\n",
      "413/413 [==============================] - 1s 2ms/step - loss: 0.3087 - rmse: 0.5556 - val_loss: 0.2957 - val_rmse: 0.5438\n",
      "Epoch 10/100\n",
      "413/413 [==============================] - 1s 2ms/step - loss: 0.3106 - rmse: 0.5573 - val_loss: 0.3041 - val_rmse: 0.5515\n",
      "Epoch 11/100\n",
      "413/413 [==============================] - 1s 2ms/step - loss: 0.3141 - rmse: 0.5605 - val_loss: 0.2893 - val_rmse: 0.5379\n",
      "Epoch 12/100\n",
      "413/413 [==============================] - 1s 2ms/step - loss: 0.2984 - rmse: 0.5463 - val_loss: 0.3086 - val_rmse: 0.5555\n",
      "Epoch 13/100\n",
      "413/413 [==============================] - 1s 1ms/step - loss: 0.3057 - rmse: 0.5529 - val_loss: 0.2852 - val_rmse: 0.5341\n",
      "Epoch 14/100\n",
      "413/413 [==============================] - 1s 1ms/step - loss: 0.2971 - rmse: 0.5450 - val_loss: 0.3013 - val_rmse: 0.5489\n",
      "Epoch 15/100\n",
      "413/413 [==============================] - 1s 1ms/step - loss: 0.2961 - rmse: 0.5441 - val_loss: 0.3052 - val_rmse: 0.5525\n",
      "Epoch 16/100\n",
      "413/413 [==============================] - 1s 2ms/step - loss: 0.3007 - rmse: 0.5483 - val_loss: 0.2928 - val_rmse: 0.5411\n",
      "Epoch 17/100\n",
      "413/413 [==============================] - 1s 1ms/step - loss: 0.2983 - rmse: 0.5462 - val_loss: 0.2847 - val_rmse: 0.5335\n",
      "Epoch 18/100\n",
      "413/413 [==============================] - 1s 1ms/step - loss: 0.2919 - rmse: 0.5403 - val_loss: 0.2966 - val_rmse: 0.5446\n",
      "Epoch 19/100\n",
      "413/413 [==============================] - 1s 1ms/step - loss: 0.2872 - rmse: 0.5359 - val_loss: 0.2880 - val_rmse: 0.5366\n",
      "Epoch 20/100\n",
      "413/413 [==============================] - 1s 1ms/step - loss: 0.2836 - rmse: 0.5325 - val_loss: 0.3167 - val_rmse: 0.5628\n",
      "Epoch 21/100\n",
      "413/413 [==============================] - 1s 1ms/step - loss: 0.2823 - rmse: 0.5313 - val_loss: 0.3043 - val_rmse: 0.5516\n",
      "Epoch 22/100\n",
      "413/413 [==============================] - 1s 2ms/step - loss: 0.2856 - rmse: 0.5344 - val_loss: 0.2928 - val_rmse: 0.5411\n",
      "Epoch 23/100\n",
      "413/413 [==============================] - 1s 2ms/step - loss: 0.2973 - rmse: 0.5453 - val_loss: 0.2855 - val_rmse: 0.5343\n",
      "Epoch 24/100\n",
      "413/413 [==============================] - 1s 2ms/step - loss: 0.2836 - rmse: 0.5326 - val_loss: 0.2802 - val_rmse: 0.5293\n",
      "Epoch 25/100\n",
      "413/413 [==============================] - 1s 1ms/step - loss: 0.2806 - rmse: 0.5297 - val_loss: 0.2807 - val_rmse: 0.5298\n",
      "Epoch 26/100\n",
      "413/413 [==============================] - 1s 1ms/step - loss: 0.2771 - rmse: 0.5264 - val_loss: 0.2805 - val_rmse: 0.5296\n",
      "Epoch 27/100\n",
      "413/413 [==============================] - 1s 1ms/step - loss: 0.2766 - rmse: 0.5259 - val_loss: 0.3449 - val_rmse: 0.5873\n",
      "Epoch 28/100\n",
      "413/413 [==============================] - 1s 1ms/step - loss: 0.2991 - rmse: 0.5469 - val_loss: 0.2825 - val_rmse: 0.5315\n",
      "Epoch 29/100\n",
      "413/413 [==============================] - 1s 2ms/step - loss: 0.2725 - rmse: 0.5220 - val_loss: 0.2799 - val_rmse: 0.5291\n",
      "Epoch 30/100\n",
      "413/413 [==============================] - 1s 2ms/step - loss: 0.2789 - rmse: 0.5281 - val_loss: 0.3002 - val_rmse: 0.5479\n",
      "Epoch 31/100\n",
      "413/413 [==============================] - 1s 2ms/step - loss: 0.2873 - rmse: 0.5360 - val_loss: 0.2767 - val_rmse: 0.5260\n",
      "Epoch 32/100\n",
      "413/413 [==============================] - 1s 2ms/step - loss: 0.2750 - rmse: 0.5244 - val_loss: 0.2710 - val_rmse: 0.5205\n",
      "Epoch 33/100\n",
      "413/413 [==============================] - 1s 2ms/step - loss: 0.2719 - rmse: 0.5215 - val_loss: 0.2742 - val_rmse: 0.5236\n",
      "Epoch 34/100\n",
      "413/413 [==============================] - 1s 2ms/step - loss: 0.2688 - rmse: 0.5184 - val_loss: 0.2711 - val_rmse: 0.5206\n",
      "Epoch 35/100\n",
      "413/413 [==============================] - 1s 1ms/step - loss: 0.2872 - rmse: 0.5359 - val_loss: 0.2782 - val_rmse: 0.5275\n",
      "Epoch 36/100\n",
      "413/413 [==============================] - 1s 1ms/step - loss: 0.2805 - rmse: 0.5296 - val_loss: 0.2653 - val_rmse: 0.5151\n",
      "Epoch 37/100\n",
      "413/413 [==============================] - 1s 1ms/step - loss: 0.2693 - rmse: 0.5190 - val_loss: 0.2690 - val_rmse: 0.5186\n",
      "Epoch 38/100\n",
      "413/413 [==============================] - 1s 2ms/step - loss: 0.2705 - rmse: 0.5201 - val_loss: 0.2674 - val_rmse: 0.5171\n",
      "Epoch 39/100\n",
      "413/413 [==============================] - 1s 2ms/step - loss: 0.2713 - rmse: 0.5209 - val_loss: 0.2616 - val_rmse: 0.5115\n",
      "Epoch 40/100\n",
      "413/413 [==============================] - 1s 2ms/step - loss: 0.2671 - rmse: 0.5168 - val_loss: 0.2680 - val_rmse: 0.5176\n",
      "Epoch 41/100\n",
      "413/413 [==============================] - 1s 2ms/step - loss: 0.2809 - rmse: 0.5300 - val_loss: 0.3234 - val_rmse: 0.5687\n",
      "Epoch 42/100\n",
      "413/413 [==============================] - 1s 1ms/step - loss: 0.2742 - rmse: 0.5236 - val_loss: 0.2689 - val_rmse: 0.5186\n",
      "Epoch 43/100\n",
      "413/413 [==============================] - 1s 2ms/step - loss: 0.2755 - rmse: 0.5249 - val_loss: 0.2879 - val_rmse: 0.5366\n",
      "Epoch 44/100\n",
      "413/413 [==============================] - 1s 1ms/step - loss: 0.2695 - rmse: 0.5191 - val_loss: 0.2665 - val_rmse: 0.5162\n",
      "Epoch 45/100\n",
      "413/413 [==============================] - 1s 1ms/step - loss: 0.2658 - rmse: 0.5155 - val_loss: 0.3027 - val_rmse: 0.5502\n",
      "Epoch 46/100\n",
      "413/413 [==============================] - 1s 1ms/step - loss: 0.2649 - rmse: 0.5146 - val_loss: 0.2748 - val_rmse: 0.5243\n",
      "Epoch 47/100\n",
      "413/413 [==============================] - 1s 1ms/step - loss: 0.2648 - rmse: 0.5145 - val_loss: 0.2842 - val_rmse: 0.5331\n",
      "Epoch 48/100\n",
      "413/413 [==============================] - 1s 1ms/step - loss: 0.2626 - rmse: 0.5125 - val_loss: 0.2741 - val_rmse: 0.5235\n",
      "Epoch 49/100\n",
      "413/413 [==============================] - 1s 1ms/step - loss: 0.2613 - rmse: 0.5112 - val_loss: 0.2825 - val_rmse: 0.5315\n",
      "Epoch 50/100\n",
      "413/413 [==============================] - 1s 2ms/step - loss: 0.2594 - rmse: 0.5093 - val_loss: 0.2717 - val_rmse: 0.5212\n",
      "Epoch 51/100\n",
      "413/413 [==============================] - 1s 2ms/step - loss: 0.2599 - rmse: 0.5098 - val_loss: 0.2765 - val_rmse: 0.5258\n",
      "Epoch 52/100\n",
      "413/413 [==============================] - 1s 2ms/step - loss: 0.2605 - rmse: 0.5104 - val_loss: 0.2773 - val_rmse: 0.5266\n",
      "Epoch 53/100\n",
      "413/413 [==============================] - 1s 1ms/step - loss: 0.2607 - rmse: 0.5106 - val_loss: 0.2908 - val_rmse: 0.5392\n",
      "Epoch 54/100\n",
      "413/413 [==============================] - 1s 1ms/step - loss: 0.2626 - rmse: 0.5124 - val_loss: 0.3026 - val_rmse: 0.5501\n",
      "Epoch 55/100\n",
      "413/413 [==============================] - 1s 2ms/step - loss: 0.2635 - rmse: 0.5133 - val_loss: 0.2656 - val_rmse: 0.5154\n",
      "Epoch 56/100\n",
      "413/413 [==============================] - 1s 2ms/step - loss: 0.2585 - rmse: 0.5084 - val_loss: 0.2641 - val_rmse: 0.5139\n",
      "Epoch 57/100\n",
      "413/413 [==============================] - 1s 2ms/step - loss: 0.2579 - rmse: 0.5078 - val_loss: 0.2702 - val_rmse: 0.5198\n",
      "Epoch 58/100\n",
      "413/413 [==============================] - 1s 2ms/step - loss: 0.2568 - rmse: 0.5068 - val_loss: 0.2733 - val_rmse: 0.5228\n",
      "Epoch 59/100\n",
      "413/413 [==============================] - 1s 1ms/step - loss: 0.2700 - rmse: 0.5196 - val_loss: 0.2930 - val_rmse: 0.5413\n",
      "Epoch 60/100\n",
      "413/413 [==============================] - 1s 2ms/step - loss: 0.2590 - rmse: 0.5090 - val_loss: 0.2745 - val_rmse: 0.5240\n",
      "Epoch 61/100\n",
      "413/413 [==============================] - 1s 2ms/step - loss: 0.2877 - rmse: 0.5364 - val_loss: 0.2592 - val_rmse: 0.5091\n",
      "Epoch 62/100\n",
      "413/413 [==============================] - 1s 2ms/step - loss: 0.2591 - rmse: 0.5090 - val_loss: 0.2709 - val_rmse: 0.5205\n",
      "Epoch 63/100\n",
      "413/413 [==============================] - 1s 1ms/step - loss: 0.2546 - rmse: 0.5046 - val_loss: 0.2790 - val_rmse: 0.5282\n",
      "Epoch 64/100\n",
      "413/413 [==============================] - 1s 1ms/step - loss: 0.2543 - rmse: 0.5043 - val_loss: 0.2661 - val_rmse: 0.5158\n",
      "Epoch 65/100\n",
      "413/413 [==============================] - 1s 1ms/step - loss: 0.2604 - rmse: 0.5103 - val_loss: 0.2667 - val_rmse: 0.5164\n",
      "Epoch 66/100\n",
      "413/413 [==============================] - 1s 1ms/step - loss: 0.2542 - rmse: 0.5041 - val_loss: 0.2661 - val_rmse: 0.5158\n",
      "Epoch 67/100\n",
      "413/413 [==============================] - 1s 1ms/step - loss: 0.2629 - rmse: 0.5127 - val_loss: 0.2791 - val_rmse: 0.5283\n",
      "Epoch 68/100\n",
      "413/413 [==============================] - 1s 1ms/step - loss: 0.2613 - rmse: 0.5112 - val_loss: 0.2773 - val_rmse: 0.5265\n",
      "Epoch 69/100\n",
      "413/413 [==============================] - 1s 1ms/step - loss: 0.2538 - rmse: 0.5038 - val_loss: 0.3014 - val_rmse: 0.5490\n",
      "Epoch 70/100\n",
      "413/413 [==============================] - 1s 1ms/step - loss: 0.2591 - rmse: 0.5090 - val_loss: 0.2787 - val_rmse: 0.5280\n",
      "Epoch 71/100\n",
      "413/413 [==============================] - 1s 1ms/step - loss: 0.2560 - rmse: 0.5060 - val_loss: 0.2699 - val_rmse: 0.5195\n",
      "Epoch 72/100\n",
      "413/413 [==============================] - 1s 1ms/step - loss: 0.2552 - rmse: 0.5052 - val_loss: 0.2657 - val_rmse: 0.5155\n",
      "Epoch 73/100\n",
      "413/413 [==============================] - 1s 1ms/step - loss: 0.2536 - rmse: 0.5036 - val_loss: 0.2716 - val_rmse: 0.5212\n",
      "Epoch 74/100\n",
      "413/413 [==============================] - 1s 2ms/step - loss: 0.2502 - rmse: 0.5002 - val_loss: 0.2894 - val_rmse: 0.5380\n",
      "Epoch 75/100\n",
      "413/413 [==============================] - 1s 1ms/step - loss: 0.2523 - rmse: 0.5023 - val_loss: 0.2711 - val_rmse: 0.5207\n",
      "Epoch 76/100\n",
      "413/413 [==============================] - 1s 1ms/step - loss: 0.2489 - rmse: 0.4989 - val_loss: 0.2680 - val_rmse: 0.5177\n",
      "Epoch 77/100\n",
      "413/413 [==============================] - 1s 2ms/step - loss: 0.2542 - rmse: 0.5042 - val_loss: 0.2810 - val_rmse: 0.5301\n",
      "Epoch 78/100\n",
      "413/413 [==============================] - 1s 2ms/step - loss: 0.2530 - rmse: 0.5030 - val_loss: 0.2746 - val_rmse: 0.5240\n",
      "Epoch 79/100\n",
      "413/413 [==============================] - 1s 1ms/step - loss: 0.2506 - rmse: 0.5006 - val_loss: 0.2875 - val_rmse: 0.5362\n",
      "Epoch 80/100\n",
      "413/413 [==============================] - 1s 1ms/step - loss: 0.2558 - rmse: 0.5057 - val_loss: 0.2725 - val_rmse: 0.5221\n",
      "Epoch 81/100\n",
      "413/413 [==============================] - 1s 2ms/step - loss: 0.2527 - rmse: 0.5027 - val_loss: 0.2744 - val_rmse: 0.5238\n",
      "Epoch 82/100\n",
      "413/413 [==============================] - 1s 1ms/step - loss: 0.2516 - rmse: 0.5016 - val_loss: 0.2725 - val_rmse: 0.5220\n",
      "Epoch 83/100\n",
      "413/413 [==============================] - 1s 1ms/step - loss: 0.2479 - rmse: 0.4979 - val_loss: 0.2703 - val_rmse: 0.5199\n",
      "Epoch 84/100\n",
      "413/413 [==============================] - 1s 1ms/step - loss: 0.2505 - rmse: 0.5005 - val_loss: 0.2698 - val_rmse: 0.5194\n",
      "Epoch 85/100\n",
      "413/413 [==============================] - 1s 2ms/step - loss: 0.2586 - rmse: 0.5085 - val_loss: 0.2677 - val_rmse: 0.5174\n",
      "Epoch 86/100\n",
      "413/413 [==============================] - 1s 1ms/step - loss: 0.2517 - rmse: 0.5017 - val_loss: 0.2658 - val_rmse: 0.5155\n",
      "Epoch 87/100\n",
      "413/413 [==============================] - 1s 1ms/step - loss: 0.2462 - rmse: 0.4961 - val_loss: 0.2697 - val_rmse: 0.5194\n",
      "Epoch 88/100\n",
      "413/413 [==============================] - 1s 1ms/step - loss: 0.2477 - rmse: 0.4977 - val_loss: 0.2803 - val_rmse: 0.5295\n",
      "Epoch 89/100\n",
      "413/413 [==============================] - 1s 1ms/step - loss: 0.2495 - rmse: 0.4995 - val_loss: 0.2702 - val_rmse: 0.5198\n",
      "Epoch 90/100\n",
      "413/413 [==============================] - 1s 1ms/step - loss: 0.2474 - rmse: 0.4973 - val_loss: 0.2813 - val_rmse: 0.5304\n",
      "Epoch 91/100\n",
      "413/413 [==============================] - 1s 1ms/step - loss: 0.2495 - rmse: 0.4995 - val_loss: 0.2839 - val_rmse: 0.5329\n",
      "Epoch 92/100\n",
      "413/413 [==============================] - 1s 1ms/step - loss: 0.2452 - rmse: 0.4952 - val_loss: 0.2622 - val_rmse: 0.5120\n",
      "Epoch 93/100\n",
      "413/413 [==============================] - 1s 1ms/step - loss: 0.2496 - rmse: 0.4996 - val_loss: 0.2713 - val_rmse: 0.5208\n",
      "Epoch 94/100\n",
      "413/413 [==============================] - 1s 1ms/step - loss: 0.2470 - rmse: 0.4970 - val_loss: 0.2858 - val_rmse: 0.5346\n",
      "Epoch 95/100\n",
      "413/413 [==============================] - 1s 1ms/step - loss: 0.2448 - rmse: 0.4948 - val_loss: 0.2987 - val_rmse: 0.5465\n",
      "Epoch 96/100\n",
      "413/413 [==============================] - 1s 1ms/step - loss: 0.2454 - rmse: 0.4954 - val_loss: 0.2680 - val_rmse: 0.5177\n",
      "Epoch 97/100\n",
      "413/413 [==============================] - 1s 1ms/step - loss: 0.2447 - rmse: 0.4946 - val_loss: 0.2733 - val_rmse: 0.5228\n",
      "Epoch 98/100\n",
      "413/413 [==============================] - 1s 1ms/step - loss: 0.2447 - rmse: 0.4947 - val_loss: 0.2739 - val_rmse: 0.5234\n",
      "Epoch 99/100\n",
      "413/413 [==============================] - 1s 1ms/step - loss: 0.2862 - rmse: 0.5350 - val_loss: 0.3549 - val_rmse: 0.5957\n",
      "Epoch 100/100\n",
      "413/413 [==============================] - 1s 1ms/step - loss: 0.2766 - rmse: 0.5259 - val_loss: 0.2902 - val_rmse: 0.5387\n"
     ]
    }
   ],
   "source": [
    "# Keras 神经网络建模与训练\n",
    "import tensorflow as tf\n",
    "from tensorflow.keras.models import Sequential\n",
    "from tensorflow.keras.layers import Dense\n",
    "from tensorflow.keras.optimizers import Adam\n",
    "\n",
    "nn_model = Sequential()\n",
    "nn_model.add(Dense(64, activation='relu', input_shape=(x_train_scaled.shape[1],)))\n",
    "nn_model.add(Dense(32, activation='relu'))\n",
    "nn_model.add(Dense(1))\n",
    "\n",
    "nn_model.compile(\n",
    "    optimizer=Adam(learning_rate=0.01),\n",
    "    loss='mse',\n",
    "    metrics=[tf.keras.metrics.RootMeanSquaredError(name='rmse')]\n",
    ")\n",
    "\n",
    "start_time = time.time()\n",
    "history = nn_model.fit(\n",
    "    x_train_scaled, y_train,\n",
    "    validation_split=0.2,\n",
    "    epochs=100,\n",
    "    batch_size=32,\n",
    "    verbose=1\n",
    ")\n",
    "elapsed_time1 = time.time() - start_time\n",
    "\n",
    "start_time = time.time()\n",
    "y_pred = nn_model.predict(x_test_scaled).flatten()\n",
    "elapsed_time2 = time.time() - start_time\n",
    "\n",
    "mse = mean_squared_error(y_test, y_pred)\n",
    "r2 = r2_score(y_test, y_pred)\n",
    "elapsed_time = time.time() - start_time\n",
    "\n",
    "# 添加神经网络结果到 results 字典\n",
    "results['Neural Network'] = (mse, r2, elapsed_time1, elapsed_time2)"
   ]
  },
  {
   "cell_type": "markdown",
   "id": "64f98505-f7ec-4eb5-87f6-2b98f6b9789d",
   "metadata": {},
   "source": [
    "### 4. 机器学习算法性能对比\n",
    "从本次实验结果来看，神经网络在预测本类问题（包含复杂的非线性关系的问题）时，准确性方面表现最佳。它取得了最低的均方误差和最高的决定系数。然而，它的训练时间也是最长的。在传统机器学习算法中，支持向量回归（SVR） 展现出不错的准确性，但其在预测阶段的计算耗时相对较长。相比之下，线性回归和决策树模型虽然运行速度极快，但在预测性能上则显得相对较弱。\n",
    "\n",
    "从训练时间和运行时间上来看，各模型之间存在巨大差异。线性回归和决策树只需要极短的训练时间。SVR的训练时间相较前两者显著增加。神经网络因为训练过程通常涉及多次迭代和复杂的反向传播计算，训练时间最长，远大于传统机器学习算法，这对于那些需要快速迭代的应用场景而言，使用可能受限。"
   ]
  },
  {
   "cell_type": "code",
   "execution_count": null,
   "id": "d8db50c0",
   "metadata": {
    "execution": {
     "iopub.execute_input": "2025-06-17T07:02:25.878186Z",
     "iopub.status.busy": "2025-06-17T07:02:25.877967Z",
     "iopub.status.idle": "2025-06-17T07:02:26.778526Z",
     "shell.execute_reply": "2025-06-17T07:02:26.778019Z",
     "shell.execute_reply.started": "2025-06-17T07:02:25.878168Z"
    },
    "tags": []
   },
   "outputs": [
    {
     "name": "stdout",
     "output_type": "stream",
     "text": [
      "                        MSE        R2  Train_Time  Calculate_Time\n",
      "Linear Regression  0.528984  0.594323    0.005054        0.000602\n",
      "Decision Tree      0.532076  0.591952    0.145569        0.000913\n",
      "SVR                0.330912  0.746224    9.193125        2.305112\n",
      "Neural Network     0.299476  0.770332   65.749367        0.137618\n"
     ]
    },
    {
     "name": "stderr",
     "output_type": "stream",
     "text": [
      "/tmp/ipykernel_2507/281633513.py:19: UserWarning: Glyph 178 (\\N{SUPERSCRIPT TWO}) missing from current font.\n",
      "  plt.tight_layout()\n",
      "/tmp/ipykernel_2507/281633513.py:26: UserWarning: Glyph 178 (\\N{SUPERSCRIPT TWO}) missing from current font.\n",
      "  plt.tight_layout()\n",
      "/tmp/ipykernel_2507/281633513.py:40: UserWarning: Glyph 178 (\\N{SUPERSCRIPT TWO}) missing from current font.\n",
      "  plt.tight_layout()\n",
      "/usr/local/lib/python3.8/site-packages/IPython/core/pylabtools.py:151: UserWarning: Glyph 178 (\\N{SUPERSCRIPT TWO}) missing from current font.\n",
      "  fig.canvas.print_figure(bytes_io, **kw)\n"
     ]
    },
    {
     "data": {
      "image/png": "[encoded data removed]",
      "text/plain": [
       "<Figure size 1200x400 with 4 Axes>"
      ]
     },
     "metadata": {},
     "output_type": "display_data"
    }
   ],
   "source": [
    "import pandas as pd\n",
    "import matplotlib.pyplot as plt\n",
    "plt.rcParams['font.sans-serif'] = ['SimHei', 'Microsoft YaHei', 'Arial Unicode MS', 'WenQuanYi Zen Hei', 'Noto Sans CJK JP', 'sans-serif']\n",
    "plt.rcParams['axes.unicode_minus'] = False\n",
    "df_results = pd.DataFrame.from_dict(\n",
    "    {k: {'MSE': v[0], 'R2': v[1], 'Train_Time': v[2], 'Calculate_Time': v[3]} for k, v in results.items()},\n",
    "    orient='index'\n",
    ")\n",
    "print(df_results)\n",
    "\n",
    "plt.figure(figsize=(12, 4))\n",
    "\n",
    "plt.subplot(2, 2, 1)\n",
    "df_results['R2'].sort_values(ascending=True).plot(kind='barh', color='cornflowerblue')\n",
    "plt.xlabel('R²')\n",
    "plt.title('模型解释程度对比')\n",
    "plt.grid(axis='x', linestyle='--', alpha=0.7)\n",
    "plt.tight_layout()\n",
    "\n",
    "plt.subplot(2, 2, 2)\n",
    "df_results['MSE'].sort_values(ascending=True).plot(kind='barh', color='cornflowerblue')\n",
    "plt.xlabel('MSE')\n",
    "plt.title('模型误差对比')\n",
    "plt.grid(axis='x', linestyle='--', alpha=0.7)\n",
    "plt.tight_layout()\n",
    "\n",
    "plt.subplot(2, 2, 3)\n",
    "df_results['Train_Time'].sort_values(ascending=True).plot(kind='barh', color='cornflowerblue')\n",
    "plt.xlabel('训练时间(s)')\n",
    "plt.title('模型训练速度对比')\n",
    "plt.grid(axis='x', linestyle='--', alpha=0.7)\n",
    "plt.tight_layout()\n",
    "\n",
    "plt.subplot(2, 2, 4)\n",
    "df_results['Calculate_Time'].sort_values(ascending=True).plot(kind='barh', color='cornflowerblue')\n",
    "plt.xlabel('运行时间(s)')\n",
    "plt.title('模型运行速度对比')\n",
    "plt.grid(axis='x', linestyle='--', alpha=0.7)\n",
    "plt.tight_layout()\n",
    "plt.show()"
   ]
  },
  {
   "cell_type": "markdown",
   "id": "01ba0577",
   "metadata": {},
   "source": [
    "## 5. 特征建模与算法选择总结\n",
    "从数据预处理要求上来说，神经网络、SVR和线性回归算法对量纲、局部异常敏感，在进行训练、预测之前，应该要将数据标准化，且小部分异常值和缺失值可能会对模型最终预测结果造成较大影响。而对于决策树，它对特征进行分段，以此来拟合目标，不依赖于样本在特征空间的分布特征，部分异常样本最多导致出现多余分支，但是对最终模型的预测性能较小，因此对数据预处理的要求较低。\n",
    "\n",
    "从问题建模和算法选择上来说，不同算法对变量之间关系的假设是不同的，应先对问题进行建模，确定变量之间关系的假设，再使用符合问题假设的算法进行预测。\n",
    "\n",
    "线性回归假设数据在特征空间中呈线性分布，以此进行拟合，但是对于需要更复杂的非线性特征交互问题，该算法就显得力不从心；SVR 将数据映射到更高维空间以捕捉更复杂的特征交互，但是如果数据分类边界及其尖锐，该模型可能并不能很好的完成任务，同时对于高维稀疏向量（文本处理 TF–IDF）的情况，大量的零值也会对模型性能造成影响；决策树可以处理有着尖锐分类边界的分类任务，但是同样对于特征之间复杂关系的解释能力有限。如果样本中出现大量噪声也会导致过度分割等问题；神经网络通过引入非线性激活函数来拟合复杂特征交互，但是其中参数之间的相互作用难以直观的表示出来，为了达成特定目标，可能需要大幅改动模型结构超参数，对使用者的经验要求较高。\n",
    "\n",
    "在本问题中，输出房价和各个参数之间的联系显然不能用简单的线性关系来表示，属于难以直观表示的复杂特征交互，所以使用 SVR 和 神经网络得到了比较好的效果。"
   ]
  }
 ],
 "metadata": {
  "kernelspec": {
   "display_name": "Python 3",
   "language": "python",
   "name": "python3"
  },
  "language_info": {
   "codemirror_mode": {
    "name": "ipython",
    "version": 3
   },
   "file_extension": ".py",
   "mimetype": "text/x-python",
   "name": "python",
   "nbconvert_exporter": "python",
   "pygments_lexer": "ipython3",
   "version": "3.9.13"
  }
 },
 "nbformat": 4,
 "nbformat_minor": 5
}
