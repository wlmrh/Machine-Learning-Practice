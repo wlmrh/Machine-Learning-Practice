{
 "cells": [
  {
   "cell_type": "markdown",
   "id": "3e5360cf-aa97-4051-ac9e-58fd22a2105a",
   "metadata": {},
   "source": [
    "## 1. 加载数据集"
   ]
  },
  {
   "cell_type": "code",
   "execution_count": 1,
   "id": "b1e0c12e-8201-41be-8372-f32b19c8d6d1",
   "metadata": {
    "execution": {
     "iopub.execute_input": "2025-06-14T06:25:19.485012Z",
     "iopub.status.busy": "2025-06-14T06:25:19.484848Z",
     "iopub.status.idle": "2025-06-14T06:25:22.838433Z",
     "shell.execute_reply": "2025-06-14T06:25:22.837782Z",
     "shell.execute_reply.started": "2025-06-14T06:25:19.484990Z"
    },
    "tags": []
   },
   "outputs": [],
   "source": [
    "import pandas as pd\n",
    "ratings = pd.read_csv('ratings.dat',\n",
    "    sep='::', engine='python',\n",
    "    names=['userId','movieId','rating','timestamp']\n",
    ")\n",
    "movies = pd.read_csv('movies.dat',\n",
    "    sep='::', engine='python',\n",
    "    names=['movieId','title','genres'], encoding='ISO-8859-1'\n",
    ")\n",
    "ratings['timestamp'] = pd.to_datetime(ratings['timestamp'], unit='s')"
   ]
  },
  {
   "cell_type": "markdown",
   "id": "c46c92fd-972f-4f2b-a4ef-c9bab729da73",
   "metadata": {},
   "source": [
    "## 2. 协同过滤 (Collaborative Filtering, CF)"
   ]
  },
  {
   "cell_type": "code",
   "execution_count": 2,
   "id": "f8081290-0398-4394-8580-e51d27dfbea2",
   "metadata": {
    "execution": {
     "iopub.execute_input": "2025-06-14T06:25:22.840010Z",
     "iopub.status.busy": "2025-06-14T06:25:22.839788Z",
     "iopub.status.idle": "2025-06-14T06:25:37.614937Z",
     "shell.execute_reply": "2025-06-14T06:25:37.614176Z",
     "shell.execute_reply.started": "2025-06-14T06:25:22.839991Z"
    },
    "tags": []
   },
   "outputs": [
    {
     "name": "stdout",
     "output_type": "stream",
     "text": [
      "Computing the cosine similarity matrix...\n",
      "Done computing similarity matrix.\n",
      "使用 KNN 计算预测得分 Top10 推荐:\n",
      "Loves of Carmen, The (1948), 预测评分: 5.00\n",
      "Voyage to the Beginning of the World (1997), 预测评分: 5.00\n",
      "Back Stage (2000), 预测评分: 4.67\n",
      "Chain of Fools (2000), 预测评分: 4.67\n",
      "Silence of the Palace, The (Saimt el Qusur) (1994), 预测评分: 4.67\n",
      "Song of Freedom (1936), 预测评分: 4.67\n",
      "Smoking/No Smoking (1993), 预测评分: 4.67\n",
      "Naked Man, The (1998), 预测评分: 4.50\n",
      "Schlafes Bruder (Brother of Sleep) (1995), 预测评分: 4.50\n",
      "Project Moon Base (1953), 预测评分: 4.50\n"
     ]
    }
   ],
   "source": [
    "from surprise import Dataset, Reader, KNNBasic\n",
    "reader = Reader(rating_scale=(1, 5))\n",
    "data = Dataset.load_from_df(ratings[['userId','movieId','rating']], reader)\n",
    "trainset = data.build_full_trainset()\n",
    "algo = KNNBasic(sim_options={'name':'cosine','user_based':False})\n",
    "algo.fit(trainset)\n",
    "\n",
    "# 假设为用户 1 进行推荐，可修改\n",
    "user_id = 1\n",
    "inner_uid = trainset.to_inner_uid(user_id)\n",
    "rated = {iid for (iid, _) in trainset.ur[inner_uid]}\n",
    "predictions = [\n",
    "    (trainset.to_raw_iid(iid), algo.predict(user_id, trainset.to_raw_iid(iid)).est)\n",
    "    for iid in trainset.all_items() if iid not in rated\n",
    "]\n",
    "n_cf = sorted(predictions, key=lambda x: x[1], reverse=True)\n",
    "top_n_cf = n_cf[:10]\n",
    "print(\"使用 KNN 计算预测得分 Top10 推荐:\")\n",
    "for mid, score in top_n_cf:\n",
    "    title = movies.loc[movies.movieId==int(mid),'title'].values[0]\n",
    "    print(f\"{title}, 预测评分: {score:.2f}\")"
   ]
  },
  {
   "cell_type": "markdown",
   "id": "a9285de0",
   "metadata": {},
   "source": [
    "## 3. 将电影所属的类别向量化。将用户给出高评分的电影的类型进行加权平均，得到用户喜好的电影种类向量，然后依据电影的类型与用户喜欢类型之间的相似度来推荐。"
   ]
  },
  {
   "cell_type": "code",
   "execution_count": 3,
   "id": "df58ed12-eb8c-43db-bff6-24304f0b2c46",
   "metadata": {
    "execution": {
     "iopub.execute_input": "2025-06-14T06:25:37.616205Z",
     "iopub.status.busy": "2025-06-14T06:25:37.615822Z",
     "iopub.status.idle": "2025-06-14T06:25:38.079964Z",
     "shell.execute_reply": "2025-06-14T06:25:38.079351Z",
     "shell.execute_reply.started": "2025-06-14T06:25:37.616185Z"
    },
    "tags": []
   },
   "outputs": [
    {
     "name": "stdout",
     "output_type": "stream",
     "text": [
      "根据与已评分电影类型的相似度 Top10 推荐:\n",
      "Wide Awake (1998), 相似度分数: 0.71\n",
      "Babe (1995), 相似度分数: 0.71\n",
      "Pollyanna (1960), 相似度分数: 0.71\n",
      "Aladdin (1992), 相似度分数: 0.71\n",
      "Steamboat Willie (1940), 相似度分数: 0.71\n",
      "Jungle Book, The (1967), 相似度分数: 0.71\n",
      "Lady and the Tramp (1955), 相似度分数: 0.68\n",
      "Little Mermaid, The (1989), 相似度分数: 0.68\n",
      "Little Princess, A (1995), 相似度分数: 0.68\n",
      "Prancer (1989), 相似度分数: 0.68\n"
     ]
    }
   ],
   "source": [
    "import numpy as np\n",
    "from sklearn.feature_extraction.text import TfidfVectorizer\n",
    "from sklearn.metrics.pairwise import cosine_similarity\n",
    "\n",
    "tfidf = TfidfVectorizer(token_pattern='[^|]+')\n",
    "tfidf_matrix = tfidf.fit_transform(movies['genres'])\n",
    "high = ratings[(ratings.userId==user_id)&(ratings.rating>=4.0)]\n",
    "indices = [movies.index[movies.movieId==mid][0] for mid in high.movieId if not movies.index[movies.movieId==mid].empty]\n",
    "if indices:\n",
    "    profile = np.asarray(tfidf_matrix[indices].mean(axis=0)).ravel()\n",
    "    cb_scores = cosine_similarity(profile.reshape(1,-1), tfidf_matrix).flatten()\n",
    "else:\n",
    "    cb_scores = np.zeros(movies.shape[0])\n",
    "top_n_cb = [(movies.movieId[idx], cb_scores[idx]) for idx in np.argsort(cb_scores)[::-1][:10]]\n",
    "print(\"根据与已评分电影类型的相似度 Top10 推荐:\")\n",
    "for mid, score in top_n_cb:\n",
    "    title = movies.loc[movies.movieId==mid,'title'].values[0]\n",
    "    print(f\"{title}, 相似度分数: {score:.2f}\")"
   ]
  },
  {
   "cell_type": "markdown",
   "id": "6d6f0738",
   "metadata": {},
   "source": [
    "## 4. 训练一个 MLP 来进行最终评分"
   ]
  },
  {
   "cell_type": "code",
   "execution_count": null,
   "id": "d1eed2ad-a120-4cf2-9c5b-9adce407d255",
   "metadata": {
    "execution": {
     "iopub.execute_input": "2025-06-14T06:25:38.080945Z",
     "iopub.status.busy": "2025-06-14T06:25:38.080690Z",
     "iopub.status.idle": "2025-06-14T06:30:12.945144Z",
     "shell.execute_reply": "2025-06-14T06:30:12.944352Z",
     "shell.execute_reply.started": "2025-06-14T06:25:38.080927Z"
    },
    "tags": []
   },
   "outputs": [
    {
     "name": "stdout",
     "output_type": "stream",
     "text": [
      "Using device: cuda\n",
      "Epoch 1, MSE: 1.4758\n",
      "Epoch 2, MSE: 0.8493\n",
      "Epoch 3, MSE: 0.8052\n",
      "Epoch 4, MSE: 0.8035\n",
      "Epoch 5, MSE: 0.8028\n"
     ]
    }
   ],
   "source": [
    "import torch\n",
    "from torch import nn\n",
    "from torch.utils.data import Dataset, DataLoader\n",
    "\n",
    "# 从公共数据集中提取出用于训练 MLP 的数据\n",
    "train_data = []\n",
    "cf_cache = {\n",
    "    (uid, iid): algo.predict(uid, iid).est\n",
    "    for uid, iid, _ in trainset.build_testset()\n",
    "}\n",
    "\n",
    "for uid, iid, true_r in trainset.build_testset():\n",
    "    cf_pred = cf_cache[(uid, iid)]  # 查字典，不调用 algo.predict\n",
    "    idx = movies.index[movies.movieId==iid][0]\n",
    "    cb_pred = cb_scores[idx]\n",
    "    train_data.append(([cf_pred, cb_pred], true_r))\n",
    "\n",
    "# 构建 Dataset\n",
    "class RecDataset(Dataset):\n",
    "    def __init__(self, data):\n",
    "        self.features = torch.tensor([d[0] for d in data], dtype=torch.float32)\n",
    "        self.targets  = torch.tensor([d[1] for d in data], dtype=torch.float32).unsqueeze(1)\n",
    "    def __len__(self):\n",
    "        return len(self.targets)\n",
    "    def __getitem__(self, idx):\n",
    "        return self.features[idx], self.targets[idx]\n",
    "\n",
    "ds = RecDataset(train_data)\n",
    "loader = DataLoader(ds, batch_size=256, shuffle=True)\n",
    "\n",
    "# 定义 MLP 模型\n",
    "class MLP(nn.Module):\n",
    "    def __init__(self):\n",
    "        super().__init__()\n",
    "        self.net = nn.Sequential(\n",
    "            nn.Linear(2, 32),\n",
    "            nn.BatchNorm1d(32),\n",
    "            nn.ReLU(),\n",
    "            nn.Dropout(0.3),\n",
    "            nn.Linear(32, 16, bias=True),\n",
    "            nn.BatchNorm1d(16),\n",
    "            nn.ReLU(),\n",
    "            nn.Dropout(0.3),\n",
    "            nn.Linear(16, 1)\n",
    "        )\n",
    "    def forward(self, x):\n",
    "        return self.net(x)\n",
    "\n",
    "\n",
    "device = torch.device('cuda' if torch.cuda.is_available() else 'cpu')\n",
    "print(f\"Using device: {device}\")\n",
    "model = MLP().to(device)\n",
    "optimizer = torch.optim.Adam(model.parameters(), lr=1e-3)\n",
    "criterion = nn.MSELoss()\n",
    "\n",
    "# 训练 MLP 模型\n",
    "model.train()\n",
    "for epoch in range(5):\n",
    "    total_loss = 0\n",
    "    for x, y in loader:\n",
    "        x, y = x.to(device), y.to(device)\n",
    "        pred = model(x)\n",
    "        loss = criterion(pred, y)\n",
    "        optimizer.zero_grad()\n",
    "        loss.backward()\n",
    "        optimizer.step()\n",
    "        total_loss += loss.item() * x.size(0)\n",
    "    print(f\"Epoch {epoch+1}, MSE: {total_loss/len(ds):.4f}\")"
   ]
  },
  {
   "cell_type": "markdown",
   "id": "68c77a0c",
   "metadata": {},
   "source": [
    "## 5. 根据 MLP 的预测结果进行推荐"
   ]
  },
  {
   "cell_type": "code",
   "execution_count": null,
   "id": "2c6d00d8-37e8-41ad-8c74-9450c16ce1af",
   "metadata": {
    "execution": {
     "iopub.execute_input": "2025-06-14T06:30:12.946545Z",
     "iopub.status.busy": "2025-06-14T06:30:12.946171Z",
     "iopub.status.idle": "2025-06-14T06:30:12.954193Z",
     "shell.execute_reply": "2025-06-14T06:30:12.953619Z",
     "shell.execute_reply.started": "2025-06-14T06:30:12.946524Z"
    },
    "tags": []
   },
   "outputs": [
    {
     "name": "stdout",
     "output_type": "stream",
     "text": [
      "\n",
      "最终评分 Top10 推荐:\n",
      "Loves of Carmen, The (1948) (MovieID: 3209), 预测融合评分: 4.75\n",
      "Voyage to the Beginning of the World (1997) (MovieID: 1915), 预测融合评分: 4.75\n",
      "Back Stage (2000) (MovieID: 3890), 预测融合评分: 4.58\n",
      "Smoking/No Smoking (1993) (MovieID: 3530), 预测融合评分: 4.51\n",
      "Chain of Fools (2000) (MovieID: 3323), 预测融合评分: 4.49\n",
      "Silence of the Palace, The (Saimt el Qusur) (1994) (MovieID: 127), 预测融合评分: 4.44\n",
      "Song of Freedom (1936) (MovieID: 3382), 预测融合评分: 4.44\n",
      "Outside Ozona (1998) (MovieID: 2438), 预测融合评分: 4.36\n",
      "Project Moon Base (1953) (MovieID: 3779), 预测融合评分: 4.33\n",
      "Vampyros Lesbos (Las Vampiras) (1970) (MovieID: 3216), 预测融合评分: 4.32\n"
     ]
    }
   ],
   "source": [
    "# 利用 MLP 生成预测分\n",
    "model.eval()\n",
    "nn_scores = {}\n",
    "with torch.no_grad():\n",
    "    for mid, cf_pred in n_cf:\n",
    "        idx = movies.index[movies.movieId==mid][0]\n",
    "        cb_pred = cb_scores[idx]\n",
    "        feats = torch.tensor([[cf_pred, cb_pred]], dtype=torch.float32).to(device)\n",
    "        nn_scores[mid] = model(feats).item()\n",
    "\n",
    "top_nn = sorted(nn_scores.items(), key=lambda x: x[1], reverse=True)[:10]\n",
    "print(\"\\n最终评分 Top10 推荐:\")\n",
    "for mid, score in top_nn:\n",
    "    title = movies.loc[movies.movieId==mid,'title'].values[0]\n",
    "    print(f\"{title} (MovieID: {mid}), 预测融合评分: {score:.2f}\")"
   ]
  },
  {
   "cell_type": "code",
   "execution_count": null,
   "id": "ab471816-a19d-44c7-83e5-fec5b11aea45",
   "metadata": {},
   "outputs": [],
   "source": []
  }
 ],
 "metadata": {
  "kernelspec": {
   "display_name": "Python 3",
   "language": "python",
   "name": "python3"
  },
  "language_info": {
   "codemirror_mode": {
    "name": "ipython",
    "version": 3
   },
   "file_extension": ".py",
   "mimetype": "text/x-python",
   "name": "python",
   "nbconvert_exporter": "python",
   "pygments_lexer": "ipython3",
   "version": "3.9.13"
  }
 },
 "nbformat": 4,
 "nbformat_minor": 5
}
